{
 "cells": [
  {
   "cell_type": "markdown",
   "metadata": {},
   "source": [
    "## CrewAI Demo\n",
    "In this notebook, we will take a look at how we can use crewAI to create crew of autonomous agents by creating a crew to get latest currency information from internet and then apply mathematical operations on it.\n",
    "\n",
    "Let's first start by installing the required dependencies"
   ]
  },
  {
   "cell_type": "code",
   "execution_count": null,
   "metadata": {},
   "outputs": [],
   "source": [
    "%pip install crewai requests 'crewai[tools]'"
   ]
  },
  {
   "cell_type": "markdown",
   "metadata": {},
   "source": [
    "Let’s import the methods and modules which we are going to use"
   ]
  },
  {
   "cell_type": "code",
   "execution_count": null,
   "metadata": {},
   "outputs": [],
   "source": [
    "# Import statements\n",
    "from crewai import Crew, Agent, Task\n",
    "from textwrap import dedent\n",
    "import os\n",
    "import json\n",
    "import requests"
   ]
  },
  {
   "cell_type": "markdown",
   "metadata": {},
   "source": [
    "Don’t forget to store your openai API key in environment variables with name `OPENAI_API_KEY` otherwise it won’t work!"
   ]
  },
  {
   "cell_type": "code",
   "execution_count": null,
   "metadata": {},
   "outputs": [],
   "source": [
    "os.environ[\"OPENAI_API_KEY\"] = openai_secret;"
   ]
  },
  {
   "cell_type": "markdown",
   "metadata": {},
   "source": [
    "Now let’s create our custom tools, one for mathematical calculation and one for internet search\n",
    "\n",
    "Here we will use `@tool` decorator from Langchain to specify a tool name and description so that our agents can use it. These tools are just simple functions where we will write our business logic"
   ]
  },
  {
   "cell_type": "code",
   "execution_count": null,
   "metadata": {},
   "outputs": [],
   "source": [
    "from langchain.tools import tool\n",
    "class Tools:\n",
    "    @tool(\"Make a calculation\")\n",
    "    def calculate(operation):\n",
    "        \"\"\"Useful to perform any mathematical calculations,\n",
    "        like sum, minus, multiplication, division, etc.\n",
    "        The input to this tool should be a mathematical\n",
    "        expression, a couple examples are `200*7` or `5000/2*10`\n",
    "        \"\"\"\n",
    "        try:\n",
    "            return eval(operation)\n",
    "        except SyntaxError:\n",
    "            return \"Error: Invalid syntax in mathematical expression\"\n",
    "\n",
    "    @tool(\"Search the internet\")\n",
    "    def search_internet(query):\n",
    "        \"\"\"Useful to search the internet \n",
    "        about a a given topic and return relevant results\"\"\"\n",
    "        top_result_to_return = 2\n",
    "        url = \"https://google.serper.dev/search\"\n",
    "        payload = json.dumps({\"q\": query})\n",
    "        headers = {\n",
    "            'X-API-KEY': serper_secret,\n",
    "            'content-type': 'application/json'\n",
    "        }\n",
    "        response = requests.request(\"POST\", url, headers=headers, data=payload)\n",
    "        results = response.json()['organic']\n",
    "        string = []\n",
    "        for result in results[:top_result_to_return]:\n",
    "            try:\n",
    "                string.append('\\n'.join([\n",
    "                    f\"Title: {result['title']}\", f\"Link: {result['link']}\",\n",
    "                    f\"Snippet: {result['snippet']}\", \"\\n-----------------\"\n",
    "                ]))\n",
    "            except KeyError:\n",
    "                next\n",
    "\n",
    "        return '\\n'.join(string)"
   ]
  },
  {
   "cell_type": "markdown",
   "metadata": {},
   "source": [
    "Now let’s create our agents aka AI employees"
   ]
  },
  {
   "cell_type": "code",
   "execution_count": null,
   "metadata": {},
   "outputs": [],
   "source": [
    "class Agents:\n",
    "  def mathsAgent():\n",
    "    return Agent(\n",
    "    role='Maths expert',\n",
    "    goal='Perform the calculations on the numbers given to you',\n",
    "    backstory='An maths expert working with numbers who have experience solving complex and basic maths problems',\n",
    "    tools=[Tools.calculate],\n",
    "    verbose=True,\n",
    "    allow_delegation=False # if it's true then agent will be able to delegate task to another agent\n",
    "  )\n",
    "  def searchAgent():\n",
    "    return Agent(\n",
    "    role='Financial Expert',\n",
    "    goal='Search internet and give the current value of given currency in INR',\n",
    "    backstory='A stock market expert who have very good knowledge about every currency and have given accurate currency values',\n",
    "    tools=[Tools.search_internet],\n",
    "    verbose=True,\n",
    "    allow_delegation=False\n",
    "  )"
   ]
  },
  {
   "cell_type": "markdown",
   "metadata": {},
   "source": [
    "And now let’s create the tasks which we will give to these agents"
   ]
  },
  {
   "cell_type": "code",
   "execution_count": null,
   "metadata": {},
   "outputs": [],
   "source": [
    "class Tasks:\n",
    "  def mathsTask(agent,operation):\n",
    "    return Task(\n",
    "      description=dedent(f\"\"\"\n",
    "          You are given a currency value and you have to perform given operation on that number\n",
    "          Here is the operation:\n",
    "          {operation}\n",
    "        \"\"\"),\n",
    "      agent=agent,\n",
    "      expected_output=\"Final answer after performing mathematical operation\"\n",
    "  )\n",
    "  def searchTask(agent,stock):\n",
    "    return Task(\n",
    "      description=dedent(f\"\"\"\n",
    "        you have given a currency name and you have to search internet and find the current value of this currency in INR\n",
    "        Here is the currency name:\n",
    "        {stock}\n",
    "      \"\"\"),\n",
    "      agent=agent,\n",
    "      expected_output=\"currency value in INR as a string\"\n",
    "    )"
   ]
  },
  {
   "cell_type": "markdown",
   "metadata": {},
   "source": [
    "Let’s create our crew class, we will call it `MathsCrew` for now but you can give any name you want because it’s your company 😎\n",
    "\n",
    "Remember that the sequence of tasks matter here because it is a sequential process."
   ]
  },
  {
   "cell_type": "code",
   "execution_count": null,
   "metadata": {},
   "outputs": [],
   "source": [
    "class MathsCrew:\n",
    "  def __init__(self,stock,operation):\n",
    "    self.stock = stock\n",
    "    self.operation = operation\n",
    "  def run(self):\n",
    "\t\t# Agents\n",
    "    mathsAgent = Agents.mathsAgent()\n",
    "    searchAgent = Agents.searchAgent()\n",
    "\t\t# Tasks\n",
    "    searchTask = Tasks.searchTask(agent=searchAgent,stock=stock)\n",
    "    mathsTask = Tasks.mathsTask(agent=mathsAgent,operation=operation)\n",
    "\t\t# Create crew\n",
    "    crew = Crew(\n",
    "      agents=[searchAgent,mathsAgent],\n",
    "      tasks=[searchTask,mathsTask],\n",
    "      verbose=2, # You can set it to 1 or 2 to different logging levels\n",
    "    )\n",
    "\t\t# Run the crew\n",
    "    result = crew.kickoff()\n",
    "    print(result)"
   ]
  },
  {
   "cell_type": "markdown",
   "metadata": {},
   "source": [
    "Lastly, add a code to take input from user and run the crew"
   ]
  },
  {
   "cell_type": "code",
   "execution_count": null,
   "metadata": {},
   "outputs": [],
   "source": [
    "print(\"Welcome to currency agent!\")\n",
    "print(\"---------------------------\")\n",
    "stock = input(\"Enter currency name:\")\n",
    "operation = input(\"Enter operation:\")\n",
    "\n",
    "mathsCrew = MathsCrew(stock,operation)\n",
    "result = mathsCrew.run()\n",
    "print(result)"
   ]
  }
 ],
 "metadata": {
  "kernelspec": {
   "display_name": "langchain",
   "language": "python",
   "name": "python3"
  },
  "language_info": {
   "name": "python",
   "version": "3.11.7"
  }
 },
 "nbformat": 4,
 "nbformat_minor": 2
}
